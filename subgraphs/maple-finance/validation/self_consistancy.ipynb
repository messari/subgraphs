{
 "cells": [
  {
   "cell_type": "code",
   "execution_count": 64,
   "metadata": {},
   "outputs": [],
   "source": [
    "import requests\n",
    "import json\n",
    "import pandas as pd\n",
    "import numpy as np\n",
    "\n",
    "graph_id = \"QmYkEQD9MFq2tGcB7QX3Znn8H2FNrridwjd9CcKaFVNqJW\"\n",
    "url = f\"https://api.thegraph.com/subgraphs/id/{graph_id}\"\n",
    "\n",
    "\n",
    "PASS = \"PASS\"\n",
    "FAIL = \"FAIL\"\n",
    "MATCH_PERCENT_TOLERANCE = 0.00001 # Much be within 0.001% of eachother\n",
    "\n",
    "check_summary = {}\n"
   ]
  },
  {
   "cell_type": "code",
   "execution_count": 65,
   "metadata": {},
   "outputs": [],
   "source": [
    "# Helpers\n",
    "\n",
    "def list_items_match(a: list, b: list) -> list:\n",
    "    exact_match = (a == b)\n",
    "    within_tolerance = abs(1 - a / b) < MATCH_PERCENT_TOLERANCE\n",
    "    return exact_match | within_tolerance \n",
    "    \n",
    "def perform_request(query):\n",
    "    res = requests.post(url, json={'query': query})\n",
    "    return json.loads(res.text)[\"data\"]\n"
   ]
  },
  {
   "cell_type": "code",
   "execution_count": 66,
   "metadata": {},
   "outputs": [
    {
     "name": "stdout",
     "output_type": "stream",
     "text": [
      "num_accounts: 43, cumulative_users: 43, result: PASS\n"
     ]
    }
   ],
   "source": [
    "# Check total accounts equals protocol account\n",
    "query = \"\"\"query {\n",
    "    accounts(first: 1000) {\n",
    "        id\n",
    "    }\n",
    "    protocols {\n",
    "        cumulativeUniqueUsers\n",
    "    }\n",
    "}\"\"\"\n",
    "\n",
    "data = perform_request(query)\n",
    "num_accounts = len(data[\"accounts\"])\n",
    "cumulative_users = data[\"protocols\"][0][\"cumulativeUniqueUsers\"]\n",
    "\n",
    "result = PASS if num_accounts == cumulative_users else FAIL \n",
    "\n",
    "print(f\"num_accounts: {num_accounts}, cumulative_users: {cumulative_users}, result: {result}\")\n",
    "\n",
    "check_summary[\"unique_user_check\"] = result\n"
   ]
  },
  {
   "cell_type": "code",
   "execution_count": 67,
   "metadata": {},
   "outputs": [
    {
     "name": "stdout",
     "output_type": "stream",
     "text": [
      "                                   market_sums  protocol_cumulatives result\n",
      "totalValueLockedUSD               1.750403e+07          1.750403e+07   PASS\n",
      "cumulativeSupplySideRevenueUSD    0.000000e+00          0.000000e+00   PASS\n",
      "cumulativeProtocolSideRevenueUSD  0.000000e+00          0.000000e+00   PASS\n",
      "cumulativeTotalRevenueUSD         0.000000e+00          0.000000e+00   PASS\n",
      "totalDepositBalanceUSD            1.700000e+07          1.700000e+07   PASS\n",
      "cumulativeDepositUSD              1.700000e+07          1.700000e+07   PASS\n",
      "totalBorrowBalanceUSD             1.300000e+07          1.300000e+07   PASS\n",
      "cumulativeBorrowUSD               1.300000e+07          1.300000e+07   PASS\n",
      "cumulativeLiquidateUSD            0.000000e+00          0.000000e+00   PASS\n"
     ]
    }
   ],
   "source": [
    "# Check cumulative for protocol match sum for pools\n",
    "\n",
    "query = \"\"\"query {\n",
    "    lendingProtocols {\n",
    "        totalValueLockedUSD\n",
    "        cumulativeSupplySideRevenueUSD\n",
    "        cumulativeProtocolSideRevenueUSD\n",
    "        cumulativeTotalRevenueUSD\n",
    "        totalDepositBalanceUSD\n",
    "        cumulativeDepositUSD\n",
    "        totalBorrowBalanceUSD\n",
    "        cumulativeBorrowUSD\n",
    "        cumulativeLiquidateUSD\n",
    "    }\n",
    "    markets {\n",
    "        totalValueLockedUSD\n",
    "        _cumulativeSupplySideRevenueUSD\n",
    "        _cumulativeProtocolSideRevenueUSD\n",
    "        _cumulativeTotalRevenueUSD\n",
    "        totalDepositBalanceUSD\n",
    "        cumulativeDepositUSD\n",
    "        totalBorrowBalanceUSD\n",
    "        cumulativeBorrowUSD\n",
    "        cumulativeLiquidateUSD\n",
    "    }\n",
    "}\"\"\"\n",
    "\n",
    "data = perform_request(query)\n",
    "protcol_data = data[\"lendingProtocols\"][0]\n",
    "market_data = data[\"markets\"]\n",
    "df = pd.DataFrame(market_data)\n",
    "df.rename(columns = {'_cumulativeSupplySideRevenueUSD':'cumulativeSupplySideRevenueUSD', '_cumulativeProtocolSideRevenueUSD':'cumulativeProtocolSideRevenueUSD', \"_cumulativeTotalRevenueUSD\": \"cumulativeTotalRevenueUSD\"}, inplace = True)\n",
    "df = df.apply(pd.to_numeric, errors='coerce') \n",
    "market_sums = df.sum(axis=0)\n",
    "\n",
    "compare_df = pd.DataFrame({\"market_sums\": market_sums, \"protocol_cumulatives\": protcol_data})\n",
    "compare_df = compare_df.apply(pd.to_numeric, errors='coerce') \n",
    "compare_df[\"result\"] = np.where(list_items_match(compare_df[\"market_sums\"], compare_df[\"protocol_cumulatives\"]), PASS, FAIL)\n",
    "print(compare_df)\n",
    "\n",
    "result = PASS if (compare_df[\"result\"].to_numpy() == PASS).all() else FAIL\n",
    "\n",
    "check_summary[\"protocol_cumulatives_match_check\"] = result\n",
    "\n"
   ]
  },
  {
   "cell_type": "code",
   "execution_count": 68,
   "metadata": {},
   "outputs": [
    {
     "name": "stdout",
     "output_type": "stream",
     "text": [
      "                                  snapshot_sums  protocol_cumulatives result\n",
      "cumulativeSupplySideRevenueUSD     0.000000e+00          0.000000e+00   PASS\n",
      "cumulativeProtocolSideRevenueUSD   0.000000e+00          0.000000e+00   PASS\n",
      "cumulativeDepositUSD               1.700000e+07          1.700000e+07   PASS\n",
      "cumulativeBorrowUSD                1.300000e+07          1.300000e+07   PASS\n",
      "cumulativeLiquidateUSD             0.000000e+00          0.000000e+00   PASS\n"
     ]
    }
   ],
   "source": [
    "# Check financial snapshots add up to protocol_cumulatives\n",
    "\n",
    "query = \"\"\"query {\n",
    "    lendingProtocols {\n",
    "        cumulativeSupplySideRevenueUSD\n",
    "        cumulativeProtocolSideRevenueUSD\n",
    "        cumulativeDepositUSD\n",
    "        cumulativeBorrowUSD\n",
    "        cumulativeLiquidateUSD\n",
    "    }\n",
    "    financialsDailySnapshots {\n",
    "        dailySupplySideRevenueUSD\n",
    "        dailyProtocolSideRevenueUSD\n",
    "        dailyDepositUSD\n",
    "        dailyBorrowUSD\n",
    "        dailyLiquidateUSD\n",
    "    }\n",
    "}\"\"\"\n",
    "\n",
    "\n",
    "data = perform_request(query)\n",
    "protcol_data = data[\"lendingProtocols\"][0]\n",
    "snapshot_data = data[\"financialsDailySnapshots\"]\n",
    "df = pd.DataFrame(snapshot_data)\n",
    "df = df.apply(pd.to_numeric, errors='coerce') \n",
    "df.rename(columns = {'dailySupplySideRevenueUSD':'cumulativeSupplySideRevenueUSD', 'dailyProtocolSideRevenueUSD':'cumulativeProtocolSideRevenueUSD', \"dailyDepositUSD\": \"cumulativeDepositUSD\", \"dailyBorrowUSD\": \"cumulativeBorrowUSD\", \"dailyLiquidateUSD\": \"cumulativeLiquidateUSD\"}, inplace = True)\n",
    "sums = df.sum(axis=0)\n",
    "\n",
    "compare_df = pd.DataFrame({\"snapshot_sums\": sums, \"protocol_cumulatives\": protcol_data})\n",
    "compare_df = compare_df.apply(pd.to_numeric, errors='coerce') \n",
    "compare_df[\"result\"] = np.where(list_items_match(compare_df[\"snapshot_sums\"], compare_df[\"protocol_cumulatives\"]), PASS, FAIL)\n",
    "print(compare_df)\n",
    "\n",
    "result = PASS if (compare_df[\"result\"].to_numpy() == PASS).all() else FAIL\n",
    "\n",
    "check_summary[\"financial_snapshots_check\"] = result\n"
   ]
  },
  {
   "cell_type": "code",
   "execution_count": 69,
   "metadata": {},
   "outputs": [
    {
     "name": "stdout",
     "output_type": "stream",
     "text": [
      "                         market_data  hourly_snapshot_sums  \\\n",
      "cumulativeDepositUSD    1.700000e+07          1.700000e+07   \n",
      "cumulativeBorrowUSD     1.500000e+07          1.500000e+07   \n",
      "cumulativeLiquidateUSD  0.000000e+00          0.000000e+00   \n",
      "\n",
      "                        daily_snapshot_sums result  \n",
      "cumulativeDepositUSD           1.700000e+07   PASS  \n",
      "cumulativeBorrowUSD            1.500000e+07   PASS  \n",
      "cumulativeLiquidateUSD         0.000000e+00   PASS  \n"
     ]
    }
   ],
   "source": [
    "# Check market snapshots add up to market cumulatives\n",
    "\n",
    "query = \"\"\"query {\n",
    "    markets(first: 1) {\n",
    "        cumulativeDepositUSD\n",
    "        cumulativeBorrowUSD\n",
    "        cumulativeLiquidateUSD\n",
    "\n",
    "        hourlySnapshots {\n",
    "            hourlyDepositUSD\n",
    "            hourlyBorrowUSD\n",
    "            hourlyLiquidateUSD\n",
    "        } \n",
    "\n",
    "        dailySnapshots {\n",
    "            dailyDepositUSD\n",
    "            dailyBorrowUSD\n",
    "            dailyLiquidateUSD\n",
    "        }\n",
    "    }\n",
    "   \n",
    "}\"\"\"\n",
    "\n",
    "data = perform_request(query) \n",
    "market_data = data[\"markets\"][0]\n",
    "filtered_market_data = {\"cumulativeDepositUSD\": float(market_data[\"cumulativeDepositUSD\"]), \"cumulativeBorrowUSD\": float(market_data[\"cumulativeBorrowUSD\"]), \"cumulativeLiquidateUSD\": float(market_data[\"cumulativeLiquidateUSD\"])}\n",
    "\n",
    "hourly_snapshot_data = market_data[\"hourlySnapshots\"]\n",
    "hourly_snapshot_df = pd.DataFrame(hourly_snapshot_data)\n",
    "hourly_snapshot_df = hourly_snapshot_df.apply(pd.to_numeric, errors='coerce') \n",
    "hourly_snapshot_df.rename(columns = {'hourlyDepositUSD':'cumulativeDepositUSD', 'hourlyBorrowUSD':'cumulativeBorrowUSD', \"hourlyLiquidateUSD\": \"cumulativeLiquidateUSD\"}, inplace = True)\n",
    "hourly_snapshot_sums = hourly_snapshot_df.sum(axis=0) \n",
    "\n",
    "daily_snapshot_data = market_data[\"dailySnapshots\"]\n",
    "daily_snapshot_df = pd.DataFrame(daily_snapshot_data)\n",
    "daily_snapshot_df = daily_snapshot_df.apply(pd.to_numeric, errors='coerce') \n",
    "daily_snapshot_df.rename(columns = {'dailyDepositUSD':'cumulativeDepositUSD', 'dailyBorrowUSD':'cumulativeBorrowUSD', \"dailyLiquidateUSD\": \"cumulativeLiquidateUSD\"}, inplace = True)\n",
    "daily_snapshot_sums = daily_snapshot_df.sum(axis=0) \n",
    "\n",
    "compare_df = pd.DataFrame({\"market_data\": filtered_market_data, \"hourly_snapshot_sums\": hourly_snapshot_sums, \"daily_snapshot_sums\": daily_snapshot_sums})\n",
    "compare_df[\"result\"] = np.where(list_items_match(compare_df[\"market_data\"], compare_df[\"hourly_snapshot_sums\"]) & list_items_match(compare_df[\"market_data\"], compare_df[\"daily_snapshot_sums\"]), PASS, FAIL)\n",
    "print(compare_df)\n",
    "\n",
    "result = PASS if (compare_df[\"result\"].to_numpy() == PASS).all() else FAIL\n",
    "check_summary[\"market_snapshots_check\"] = result\n",
    "\n"
   ]
  },
  {
   "cell_type": "code",
   "execution_count": 70,
   "metadata": {},
   "outputs": [
    {
     "name": "stdout",
     "output_type": "stream",
     "text": [
      "{'unique_user_check': 'PASS', 'protocol_cumulatives_match_check': 'PASS', 'financial_snapshots_check': 'PASS', 'market_snapshots_check': 'PASS'}\n"
     ]
    }
   ],
   "source": [
    "# Summarize results\n",
    "\n",
    "print(check_summary)"
   ]
  }
 ],
 "metadata": {
  "kernelspec": {
   "display_name": "Python 3.10.1 ('default')",
   "language": "python",
   "name": "python3"
  },
  "language_info": {
   "codemirror_mode": {
    "name": "ipython",
    "version": 3
   },
   "file_extension": ".py",
   "mimetype": "text/x-python",
   "name": "python",
   "nbconvert_exporter": "python",
   "pygments_lexer": "ipython3",
   "version": "3.10.1"
  },
  "orig_nbformat": 4,
  "vscode": {
   "interpreter": {
    "hash": "a16afcfa13c3901ec800918c57279a94334b35ae1c71220f0a678463aca0e97a"
   }
  }
 },
 "nbformat": 4,
 "nbformat_minor": 2
}
